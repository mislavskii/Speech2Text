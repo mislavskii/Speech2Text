{
 "cells": [
  {
   "cell_type": "markdown",
   "metadata": {},
   "source": [
    "# Transcribe a YouTube Video in English with Assembly AI and yt-dlp\n",
    "\n",
    "### References:\n",
    "\n",
    "- [Assembly AI documentation](https://www.assemblyai.com/docs)\n",
    "- [yt-dlp on GitHub](https://github.com/yt-dlp/yt-dlp)"
   ]
  },
  {
   "cell_type": "markdown",
   "metadata": {},
   "source": [
    "## Preparation"
   ]
  },
  {
   "cell_type": "markdown",
   "metadata": {},
   "source": [
    "#### Imports and Globals"
   ]
  },
  {
   "cell_type": "code",
   "execution_count": 1,
   "metadata": {},
   "outputs": [],
   "source": [
    "import assemblyai as aai\n",
    "import yt_dlp\n",
    "import json\n",
    "\n",
    "from config import *\n",
    "\n",
    "aai.settings.api_key = aai_key\n",
    "YT_BASE_URL = 'https://www.youtube.com/watch?v='\n",
    "DST_FOLDER = 'files'"
   ]
  },
  {
   "cell_type": "markdown",
   "metadata": {},
   "source": [
    "#### Task-specific Variables"
   ]
  },
  {
   "cell_type": "code",
   "execution_count": 2,
   "metadata": {},
   "outputs": [],
   "source": [
    "title = 'The Power To OverRule G-d'  # actually not needed as yt-dlp can obtain it from the video\n",
    "v_id = 'wKS2sFRI87w'  # the main identifier of the video, absolutely needeed"
   ]
  },
  {
   "cell_type": "markdown",
   "metadata": {},
   "source": [
    "#### Pull and save the soundtrack with yt-dlp"
   ]
  },
  {
   "cell_type": "code",
   "execution_count": 6,
   "metadata": {},
   "outputs": [
    {
     "name": "stdout",
     "output_type": "stream",
     "text": [
      "[youtube] Extracting URL: https://www.youtube.com/watch?v=wKS2sFRI87w\n",
      "[youtube] wKS2sFRI87w: Downloading webpage\n",
      "[youtube] wKS2sFRI87w: Downloading tv client config\n",
      "[youtube] wKS2sFRI87w: Downloading player c548b3da\n",
      "[youtube] wKS2sFRI87w: Downloading tv player API JSON\n",
      "[youtube] wKS2sFRI87w: Downloading ios player API JSON\n",
      "[youtube] wKS2sFRI87w: Downloading m3u8 information\n",
      "[info] wKS2sFRI87w: Downloading 1 format(s): 140\n",
      "[download] files\\The Power To OverRule G-d：_wKS2sFRI87w.m4a has already been downloaded\n",
      "[download] 100% of   23.92MiB\n",
      "\n",
      ">>> Downloaded to: files/The Power To OverRule G-d:_wKS2sFRI87w.m4a\n"
     ]
    }
   ],
   "source": [
    "url = f'{YT_BASE_URL}{v_id}'\n",
    "\n",
    "ydl_opts = {\n",
    "    'format': 'm4a/bestaudio/best',  # The best audio version in m4a format\n",
    "    'outtmpl': f'{DST_FOLDER}/%(title)s_%(id)s.%(ext)s',  \n",
    "}\n",
    "\n",
    "with yt_dlp.YoutubeDL(ydl_opts) as ydl:\n",
    "    info = ydl.extract_info(url)\n",
    "    audio_file = ydl.evaluate_outtmpl(f'{DST_FOLDER}/%(title)s_%(id)s.%(ext)s', info)\n",
    "\n",
    "print(f'\\n>>> Downloaded to: {audio_file}')"
   ]
  },
  {
   "cell_type": "markdown",
   "metadata": {},
   "source": [
    "## Building the transcript via AssemblyAI API"
   ]
  },
  {
   "cell_type": "code",
   "execution_count": null,
   "metadata": {},
   "outputs": [],
   "source": []
  },
  {
   "cell_type": "code",
   "execution_count": null,
   "metadata": {},
   "outputs": [],
   "source": []
  },
  {
   "cell_type": "code",
   "execution_count": null,
   "metadata": {},
   "outputs": [],
   "source": []
  },
  {
   "cell_type": "code",
   "execution_count": null,
   "metadata": {},
   "outputs": [],
   "source": []
  },
  {
   "cell_type": "markdown",
   "metadata": {},
   "source": []
  }
 ],
 "metadata": {
  "kernelspec": {
   "display_name": ".venv",
   "language": "python",
   "name": "python3"
  },
  "language_info": {
   "codemirror_mode": {
    "name": "ipython",
    "version": 3
   },
   "file_extension": ".py",
   "mimetype": "text/x-python",
   "name": "python",
   "nbconvert_exporter": "python",
   "pygments_lexer": "ipython3",
   "version": "3.12.4"
  }
 },
 "nbformat": 4,
 "nbformat_minor": 2
}
