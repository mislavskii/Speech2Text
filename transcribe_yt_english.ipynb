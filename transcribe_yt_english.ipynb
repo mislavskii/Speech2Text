{
 "cells": [
  {
   "cell_type": "markdown",
   "metadata": {},
   "source": [
    "# Transcribe a YouTube Video in English with Assembly AI and yt-dlp\n",
    "\n",
    "### References:\n",
    "\n",
    "- [Assembly AI documentation](https://www.assemblyai.com/docs)\n",
    "- [yt-dlp on GitHub](https://github.com/yt-dlp/yt-dlp)"
   ]
  },
  {
   "cell_type": "markdown",
   "metadata": {},
   "source": [
    "## Preparation"
   ]
  },
  {
   "cell_type": "markdown",
   "metadata": {},
   "source": [
    "#### Imports and Globals"
   ]
  },
  {
   "cell_type": "code",
   "execution_count": 1,
   "metadata": {},
   "outputs": [],
   "source": [
    "import assemblyai as aai\n",
    "import yt_dlp\n",
    "import json\n",
    "\n",
    "from config import *\n",
    "\n",
    "aai.settings.api_key = aai_key\n",
    "YT_BASE_URL = 'https://www.youtube.com/watch?v='\n",
    "DST_FOLDER = 'files'"
   ]
  },
  {
   "cell_type": "markdown",
   "metadata": {},
   "source": [
    "#### Task-specific Variables"
   ]
  },
  {
   "cell_type": "code",
   "execution_count": 2,
   "metadata": {},
   "outputs": [],
   "source": [
    "# title = 'The Power To OverRule G-d'  # actually not needed as yt-dlp can obtain it from the video\n",
    "v_id = 'wKS2sFRI87w'  # the main identifier of the video, absolutely needeed"
   ]
  },
  {
   "cell_type": "markdown",
   "metadata": {},
   "source": [
    "#### Pull and save the soundtrack with yt-dlp"
   ]
  },
  {
   "cell_type": "code",
   "execution_count": 24,
   "metadata": {},
   "outputs": [
    {
     "name": "stdout",
     "output_type": "stream",
     "text": [
      "[youtube] Extracting URL: https://www.youtube.com/watch?v=wKS2sFRI87w\n",
      "[youtube] wKS2sFRI87w: Downloading webpage\n",
      "[youtube] wKS2sFRI87w: Downloading tv client config\n",
      "[youtube] wKS2sFRI87w: Downloading player c548b3da\n",
      "[youtube] wKS2sFRI87w: Downloading tv player API JSON\n",
      "[youtube] wKS2sFRI87w: Downloading ios player API JSON\n",
      "[youtube] wKS2sFRI87w: Downloading m3u8 information\n",
      "[info] wKS2sFRI87w: Downloading 1 format(s): 140\n",
      "[download] files\\The Power To OverRule G-d：_wKS2sFRI87w.m4a has already been downloaded\n",
      "[download] 100% of   23.92MiB\n",
      "\n",
      ">>> Downloaded to: files\\The Power To OverRule G-d：_wKS2sFRI87w.m4a\n"
     ]
    }
   ],
   "source": [
    "url = f'{YT_BASE_URL}{v_id}'\n",
    "\n",
    "ydl_opts = {\n",
    "    'format': 'm4a/bestaudio/best',  # The best audio version in m4a format\n",
    "    'outtmpl': f'{DST_FOLDER}/%(title)s_%(id)s.%(ext)s',  \n",
    "}\n",
    "\n",
    "with yt_dlp.YoutubeDL(ydl_opts) as ydl:\n",
    "    info = ydl.extract_info(url)\n",
    "    audio_file = ydl.prepare_filename(info)\n",
    "\n",
    "print(f'\\n>>> Downloaded to: {audio_file}')"
   ]
  },
  {
   "cell_type": "markdown",
   "metadata": {},
   "source": [
    "## Building the transcript via AssemblyAI API"
   ]
  },
  {
   "cell_type": "code",
   "execution_count": null,
   "metadata": {},
   "outputs": [],
   "source": [
    "config = aai.TranscriptionConfig(language_detection=True, speaker_labels=True)"
   ]
  },
  {
   "cell_type": "code",
   "execution_count": 26,
   "metadata": {},
   "outputs": [
    {
     "ename": "TranscriptError",
     "evalue": "Failed to upload audio file: \nReason: <html>\r\n<head><title>502 Bad Gateway</title></head>\r\n<body>\r\n<center><h1>502 Bad Gateway</h1></center>\r\n</body>\r\n</html>\r\n\nRequest: <Request('POST', 'https://api.assemblyai.com/v2/upload')>",
     "output_type": "error",
     "traceback": [
      "\u001b[1;31m---------------------------------------------------------------------------\u001b[0m",
      "\u001b[1;31mTranscriptError\u001b[0m                           Traceback (most recent call last)",
      "Cell \u001b[1;32mIn[26], line 2\u001b[0m\n\u001b[0;32m      1\u001b[0m transcriber \u001b[38;5;241m=\u001b[39m aai\u001b[38;5;241m.\u001b[39mTranscriber()\n\u001b[1;32m----> 2\u001b[0m transcript \u001b[38;5;241m=\u001b[39m \u001b[43mtranscriber\u001b[49m\u001b[38;5;241;43m.\u001b[39;49m\u001b[43mtranscribe\u001b[49m\u001b[43m(\u001b[49m\u001b[43maudio_file\u001b[49m\u001b[43m,\u001b[49m\u001b[43m \u001b[49m\u001b[43mconfig\u001b[49m\u001b[43m)\u001b[49m\n\u001b[0;32m      3\u001b[0m \u001b[38;5;28mprint\u001b[39m(transcript\u001b[38;5;241m.\u001b[39mstatus)\n",
      "File \u001b[1;32mf:\\User\\Data\\Endeavors\\Speech2Text\\.venv\\Lib\\site-packages\\assemblyai\\transcriber.py:1106\u001b[0m, in \u001b[0;36mTranscriber.transcribe\u001b[1;34m(self, data, config)\u001b[0m\n\u001b[0;32m   1092\u001b[0m \u001b[38;5;28;01mdef\u001b[39;00m\u001b[38;5;250m \u001b[39m\u001b[38;5;21mtranscribe\u001b[39m(\n\u001b[0;32m   1093\u001b[0m     \u001b[38;5;28mself\u001b[39m,\n\u001b[0;32m   1094\u001b[0m     data: Union[\u001b[38;5;28mstr\u001b[39m, BinaryIO],\n\u001b[0;32m   1095\u001b[0m     config: Optional[types\u001b[38;5;241m.\u001b[39mTranscriptionConfig] \u001b[38;5;241m=\u001b[39m \u001b[38;5;28;01mNone\u001b[39;00m,\n\u001b[0;32m   1096\u001b[0m ) \u001b[38;5;241m-\u001b[39m\u001b[38;5;241m>\u001b[39m Transcript:\n\u001b[0;32m   1097\u001b[0m \u001b[38;5;250m    \u001b[39m\u001b[38;5;124;03m\"\"\"\u001b[39;00m\n\u001b[0;32m   1098\u001b[0m \u001b[38;5;124;03m    Transcribes an audio file which can be specified as local path, URL, or binary object.\u001b[39;00m\n\u001b[0;32m   1099\u001b[0m \n\u001b[1;32m   (...)\u001b[0m\n\u001b[0;32m   1103\u001b[0m \u001b[38;5;124;03m            default configuration will be used.\u001b[39;00m\n\u001b[0;32m   1104\u001b[0m \u001b[38;5;124;03m    \"\"\"\u001b[39;00m\n\u001b[1;32m-> 1106\u001b[0m     \u001b[38;5;28;01mreturn\u001b[39;00m \u001b[38;5;28;43mself\u001b[39;49m\u001b[38;5;241;43m.\u001b[39;49m\u001b[43m_impl\u001b[49m\u001b[38;5;241;43m.\u001b[39;49m\u001b[43mtranscribe\u001b[49m\u001b[43m(\u001b[49m\n\u001b[0;32m   1107\u001b[0m \u001b[43m        \u001b[49m\u001b[43mdata\u001b[49m\u001b[38;5;241;43m=\u001b[39;49m\u001b[43mdata\u001b[49m\u001b[43m,\u001b[49m\n\u001b[0;32m   1108\u001b[0m \u001b[43m        \u001b[49m\u001b[43mconfig\u001b[49m\u001b[38;5;241;43m=\u001b[39;49m\u001b[43mconfig\u001b[49m\u001b[43m,\u001b[49m\n\u001b[0;32m   1109\u001b[0m \u001b[43m        \u001b[49m\u001b[43mpoll\u001b[49m\u001b[38;5;241;43m=\u001b[39;49m\u001b[38;5;28;43;01mTrue\u001b[39;49;00m\u001b[43m,\u001b[49m\n\u001b[0;32m   1110\u001b[0m \u001b[43m    \u001b[49m\u001b[43m)\u001b[49m\n",
      "File \u001b[1;32mf:\\User\\Data\\Endeavors\\Speech2Text\\.venv\\Lib\\site-packages\\assemblyai\\transcriber.py:882\u001b[0m, in \u001b[0;36m_TranscriberImpl.transcribe\u001b[1;34m(self, data, config, poll)\u001b[0m\n\u001b[0;32m    875\u001b[0m \u001b[38;5;28;01mif\u001b[39;00m \u001b[38;5;28misinstance\u001b[39m(data, \u001b[38;5;28mstr\u001b[39m) \u001b[38;5;129;01mand\u001b[39;00m urlparse(data)\u001b[38;5;241m.\u001b[39mscheme \u001b[38;5;129;01min\u001b[39;00m {\u001b[38;5;124m\"\u001b[39m\u001b[38;5;124mhttp\u001b[39m\u001b[38;5;124m\"\u001b[39m, \u001b[38;5;124m\"\u001b[39m\u001b[38;5;124mhttps\u001b[39m\u001b[38;5;124m\"\u001b[39m}:\n\u001b[0;32m    876\u001b[0m     \u001b[38;5;28;01mreturn\u001b[39;00m \u001b[38;5;28mself\u001b[39m\u001b[38;5;241m.\u001b[39mtranscribe_url(\n\u001b[0;32m    877\u001b[0m         url\u001b[38;5;241m=\u001b[39mdata,\n\u001b[0;32m    878\u001b[0m         config\u001b[38;5;241m=\u001b[39mconfig,\n\u001b[0;32m    879\u001b[0m         poll\u001b[38;5;241m=\u001b[39mpoll,\n\u001b[0;32m    880\u001b[0m     )\n\u001b[1;32m--> 882\u001b[0m \u001b[38;5;28;01mreturn\u001b[39;00m \u001b[38;5;28;43mself\u001b[39;49m\u001b[38;5;241;43m.\u001b[39;49m\u001b[43mtranscribe_file\u001b[49m\u001b[43m(\u001b[49m\n\u001b[0;32m    883\u001b[0m \u001b[43m    \u001b[49m\u001b[43mdata\u001b[49m\u001b[38;5;241;43m=\u001b[39;49m\u001b[43mdata\u001b[49m\u001b[43m,\u001b[49m\n\u001b[0;32m    884\u001b[0m \u001b[43m    \u001b[49m\u001b[43mconfig\u001b[49m\u001b[38;5;241;43m=\u001b[39;49m\u001b[43mconfig\u001b[49m\u001b[43m,\u001b[49m\n\u001b[0;32m    885\u001b[0m \u001b[43m    \u001b[49m\u001b[43mpoll\u001b[49m\u001b[38;5;241;43m=\u001b[39;49m\u001b[43mpoll\u001b[49m\u001b[43m,\u001b[49m\n\u001b[0;32m    886\u001b[0m \u001b[43m\u001b[49m\u001b[43m)\u001b[49m\n",
      "File \u001b[1;32mf:\\User\\Data\\Endeavors\\Speech2Text\\.venv\\Lib\\site-packages\\assemblyai\\transcriber.py:858\u001b[0m, in \u001b[0;36m_TranscriberImpl.transcribe_file\u001b[1;34m(self, data, config, poll)\u001b[0m\n\u001b[0;32m    850\u001b[0m \u001b[38;5;28;01mdef\u001b[39;00m\u001b[38;5;250m \u001b[39m\u001b[38;5;21mtranscribe_file\u001b[39m(\n\u001b[0;32m    851\u001b[0m     \u001b[38;5;28mself\u001b[39m,\n\u001b[0;32m    852\u001b[0m     \u001b[38;5;241m*\u001b[39m,\n\u001b[1;32m   (...)\u001b[0m\n\u001b[0;32m    856\u001b[0m ) \u001b[38;5;241m-\u001b[39m\u001b[38;5;241m>\u001b[39m Transcript:\n\u001b[0;32m    857\u001b[0m     \u001b[38;5;66;03m# Note: If uploading fails, it should raise an Exception to the user, hence no try-except here.\u001b[39;00m\n\u001b[1;32m--> 858\u001b[0m     audio_url \u001b[38;5;241m=\u001b[39m \u001b[38;5;28;43mself\u001b[39;49m\u001b[38;5;241;43m.\u001b[39;49m\u001b[43mupload_file\u001b[49m\u001b[43m(\u001b[49m\u001b[43mdata\u001b[49m\u001b[43m)\u001b[49m\n\u001b[0;32m    860\u001b[0m     \u001b[38;5;28;01mreturn\u001b[39;00m \u001b[38;5;28mself\u001b[39m\u001b[38;5;241m.\u001b[39mtranscribe_url(\n\u001b[0;32m    861\u001b[0m         url\u001b[38;5;241m=\u001b[39maudio_url,\n\u001b[0;32m    862\u001b[0m         config\u001b[38;5;241m=\u001b[39mconfig,\n\u001b[0;32m    863\u001b[0m         poll\u001b[38;5;241m=\u001b[39mpoll,\n\u001b[0;32m    864\u001b[0m     )\n",
      "File \u001b[1;32mf:\\User\\Data\\Endeavors\\Speech2Text\\.venv\\Lib\\site-packages\\assemblyai\\transcriber.py:815\u001b[0m, in \u001b[0;36m_TranscriberImpl.upload_file\u001b[1;34m(self, data)\u001b[0m\n\u001b[0;32m    813\u001b[0m \u001b[38;5;28;01mif\u001b[39;00m \u001b[38;5;28misinstance\u001b[39m(data, \u001b[38;5;28mstr\u001b[39m):\n\u001b[0;32m    814\u001b[0m     \u001b[38;5;28;01mwith\u001b[39;00m \u001b[38;5;28mopen\u001b[39m(data, \u001b[38;5;124m\"\u001b[39m\u001b[38;5;124mrb\u001b[39m\u001b[38;5;124m\"\u001b[39m) \u001b[38;5;28;01mas\u001b[39;00m audio_file:\n\u001b[1;32m--> 815\u001b[0m         \u001b[38;5;28;01mreturn\u001b[39;00m \u001b[43mapi\u001b[49m\u001b[38;5;241;43m.\u001b[39;49m\u001b[43mupload_file\u001b[49m\u001b[43m(\u001b[49m\n\u001b[0;32m    816\u001b[0m \u001b[43m            \u001b[49m\u001b[43mclient\u001b[49m\u001b[38;5;241;43m=\u001b[39;49m\u001b[38;5;28;43mself\u001b[39;49m\u001b[38;5;241;43m.\u001b[39;49m\u001b[43m_client\u001b[49m\u001b[38;5;241;43m.\u001b[39;49m\u001b[43mhttp_client\u001b[49m\u001b[43m,\u001b[49m\n\u001b[0;32m    817\u001b[0m \u001b[43m            \u001b[49m\u001b[43maudio_file\u001b[49m\u001b[38;5;241;43m=\u001b[39;49m\u001b[43maudio_file\u001b[49m\u001b[43m,\u001b[49m\n\u001b[0;32m    818\u001b[0m \u001b[43m        \u001b[49m\u001b[43m)\u001b[49m\n\u001b[0;32m    819\u001b[0m \u001b[38;5;28;01melse\u001b[39;00m:\n\u001b[0;32m    820\u001b[0m     \u001b[38;5;28;01mreturn\u001b[39;00m api\u001b[38;5;241m.\u001b[39mupload_file(\n\u001b[0;32m    821\u001b[0m         client\u001b[38;5;241m=\u001b[39m\u001b[38;5;28mself\u001b[39m\u001b[38;5;241m.\u001b[39m_client\u001b[38;5;241m.\u001b[39mhttp_client,\n\u001b[0;32m    822\u001b[0m         audio_file\u001b[38;5;241m=\u001b[39mdata,\n\u001b[0;32m    823\u001b[0m     )\n",
      "File \u001b[1;32mf:\\User\\Data\\Endeavors\\Speech2Text\\.venv\\Lib\\site-packages\\assemblyai\\api.py:107\u001b[0m, in \u001b[0;36mupload_file\u001b[1;34m(client, audio_file)\u001b[0m\n\u001b[0;32m    101\u001b[0m response \u001b[38;5;241m=\u001b[39m client\u001b[38;5;241m.\u001b[39mpost(\n\u001b[0;32m    102\u001b[0m     ENDPOINT_UPLOAD,\n\u001b[0;32m    103\u001b[0m     content\u001b[38;5;241m=\u001b[39maudio_file,\n\u001b[0;32m    104\u001b[0m )\n\u001b[0;32m    106\u001b[0m \u001b[38;5;28;01mif\u001b[39;00m response\u001b[38;5;241m.\u001b[39mstatus_code \u001b[38;5;241m!=\u001b[39m httpx\u001b[38;5;241m.\u001b[39mcodes\u001b[38;5;241m.\u001b[39mOK:\n\u001b[1;32m--> 107\u001b[0m     \u001b[38;5;28;01mraise\u001b[39;00m types\u001b[38;5;241m.\u001b[39mTranscriptError(\n\u001b[0;32m    108\u001b[0m         \u001b[38;5;124mf\u001b[39m\u001b[38;5;124m\"\u001b[39m\u001b[38;5;124mFailed to upload audio file: \u001b[39m\u001b[38;5;132;01m{\u001b[39;00m_get_error_message(response)\u001b[38;5;132;01m}\u001b[39;00m\u001b[38;5;124m\"\u001b[39m,\n\u001b[0;32m    109\u001b[0m         response\u001b[38;5;241m.\u001b[39mstatus_code,\n\u001b[0;32m    110\u001b[0m     )\n\u001b[0;32m    112\u001b[0m \u001b[38;5;28;01mreturn\u001b[39;00m response\u001b[38;5;241m.\u001b[39mjson()[\u001b[38;5;124m\"\u001b[39m\u001b[38;5;124mupload_url\u001b[39m\u001b[38;5;124m\"\u001b[39m]\n",
      "\u001b[1;31mTranscriptError\u001b[0m: Failed to upload audio file: \nReason: <html>\r\n<head><title>502 Bad Gateway</title></head>\r\n<body>\r\n<center><h1>502 Bad Gateway</h1></center>\r\n</body>\r\n</html>\r\n\nRequest: <Request('POST', 'https://api.assemblyai.com/v2/upload')>"
     ]
    }
   ],
   "source": [
    "transcriber = aai.Transcriber()\n",
    "transcript = transcriber.transcribe(audio_file, config)\n",
    "print(transcript.status)"
   ]
  },
  {
   "cell_type": "code",
   "execution_count": 20,
   "metadata": {},
   "outputs": [
    {
     "data": {
      "text/plain": [
       "'The Power To OverRule G-d：_wKS2sFRI87w'"
      ]
     },
     "execution_count": 20,
     "metadata": {},
     "output_type": "execute_result"
    }
   ],
   "source": [
    "file_name = audio_file.split(\"\\\\\")[-1].split(\".\")[0]\n",
    "file_name"
   ]
  },
  {
   "cell_type": "code",
   "execution_count": 21,
   "metadata": {},
   "outputs": [],
   "source": [
    "json.dump(transcript.json_response, \n",
    "          open(f'files/transcript_{file_name}_{transcript.id}.json', 'w', encoding='utf-8'), \n",
    "          indent=4, \n",
    "          ensure_ascii=False\n",
    ")\n",
    "\n",
    "with open(f'files/transcript_{file_name}_{transcript.id}.txt', 'w', encoding='utf-8') as f:\n",
    "    f.write(transcript.text)"
   ]
  },
  {
   "cell_type": "code",
   "execution_count": null,
   "metadata": {},
   "outputs": [],
   "source": []
  },
  {
   "cell_type": "code",
   "execution_count": null,
   "metadata": {},
   "outputs": [],
   "source": []
  },
  {
   "cell_type": "markdown",
   "metadata": {},
   "source": []
  }
 ],
 "metadata": {
  "kernelspec": {
   "display_name": ".venv",
   "language": "python",
   "name": "python3"
  },
  "language_info": {
   "codemirror_mode": {
    "name": "ipython",
    "version": 3
   },
   "file_extension": ".py",
   "mimetype": "text/x-python",
   "name": "python",
   "nbconvert_exporter": "python",
   "pygments_lexer": "ipython3",
   "version": "3.12.4"
  }
 },
 "nbformat": 4,
 "nbformat_minor": 2
}
