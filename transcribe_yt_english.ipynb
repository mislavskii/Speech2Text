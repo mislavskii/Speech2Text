{
 "cells": [
  {
   "cell_type": "markdown",
   "metadata": {},
   "source": [
    "# Transcribe a YouTube Video in English with Assembly AI and yt-dlp\n",
    "\n",
    "### References:\n",
    "\n",
    "- [Assembly AI documentation](https://www.assemblyai.com/docs)\n",
    "- [yt-dlp on GitHub](https://github.com/yt-dlp/yt-dlp)"
   ]
  },
  {
   "cell_type": "markdown",
   "metadata": {},
   "source": [
    "## Preparation"
   ]
  },
  {
   "cell_type": "markdown",
   "metadata": {},
   "source": [
    "#### Imports and Globals"
   ]
  },
  {
   "cell_type": "code",
   "execution_count": 1,
   "metadata": {},
   "outputs": [],
   "source": [
    "import assemblyai as aai\n",
    "import yt_dlp\n",
    "import json\n",
    "\n",
    "from config import *\n",
    "\n",
    "aai.settings.api_key = aai_key\n",
    "YT_BASE_URL = 'https://www.youtube.com/watch?v='\n",
    "DST_FOLDER = 'files'"
   ]
  },
  {
   "cell_type": "markdown",
   "metadata": {},
   "source": [
    "#### Task-specific Variables"
   ]
  },
  {
   "cell_type": "code",
   "execution_count": 2,
   "metadata": {},
   "outputs": [],
   "source": [
    "# title = 'The Power To OverRule G-d'  # actually not needed as yt-dlp can obtain it from the video\n",
    "v_id = 'wKS2sFRI87w'  # the main identifier of the video, absolutely needeed"
   ]
  },
  {
   "cell_type": "markdown",
   "metadata": {},
   "source": [
    "#### Pull and save the soundtrack with yt-dlp"
   ]
  },
  {
   "cell_type": "code",
   "execution_count": 24,
   "metadata": {},
   "outputs": [
    {
     "name": "stdout",
     "output_type": "stream",
     "text": [
      "[youtube] Extracting URL: https://www.youtube.com/watch?v=wKS2sFRI87w\n",
      "[youtube] wKS2sFRI87w: Downloading webpage\n",
      "[youtube] wKS2sFRI87w: Downloading tv client config\n",
      "[youtube] wKS2sFRI87w: Downloading player c548b3da\n",
      "[youtube] wKS2sFRI87w: Downloading tv player API JSON\n",
      "[youtube] wKS2sFRI87w: Downloading ios player API JSON\n",
      "[youtube] wKS2sFRI87w: Downloading m3u8 information\n",
      "[info] wKS2sFRI87w: Downloading 1 format(s): 140\n",
      "[download] files\\The Power To OverRule G-d：_wKS2sFRI87w.m4a has already been downloaded\n",
      "[download] 100% of   23.92MiB\n",
      "\n",
      ">>> Downloaded to: files\\The Power To OverRule G-d：_wKS2sFRI87w.m4a\n"
     ]
    }
   ],
   "source": [
    "url = f'{YT_BASE_URL}{v_id}'\n",
    "\n",
    "ydl_opts = {\n",
    "    'format': 'm4a/bestaudio/best',  # The best audio version in m4a format\n",
    "    'outtmpl': f'{DST_FOLDER}/%(title)s_%(id)s.%(ext)s',  \n",
    "}\n",
    "\n",
    "with yt_dlp.YoutubeDL(ydl_opts) as ydl:\n",
    "    info = ydl.extract_info(url)\n",
    "    audio_file = ydl.prepare_filename(info)\n",
    "\n",
    "print(f'\\n>>> Downloaded to: {audio_file}')"
   ]
  },
  {
   "cell_type": "markdown",
   "metadata": {},
   "source": [
    "## Building the transcript via AssemblyAI API"
   ]
  },
  {
   "cell_type": "code",
   "execution_count": null,
   "metadata": {},
   "outputs": [],
   "source": [
    "config = aai.TranscriptionConfig(language_detection=True)"
   ]
  },
  {
   "cell_type": "code",
   "execution_count": 27,
   "metadata": {},
   "outputs": [
    {
     "name": "stdout",
     "output_type": "stream",
     "text": [
      "TranscriptStatus.completed\n"
     ]
    }
   ],
   "source": [
    "transcriber = aai.Transcriber()\n",
    "transcript = transcriber.transcribe(audio_file, config)\n",
    "print(transcript.status)"
   ]
  },
  {
   "cell_type": "code",
   "execution_count": 20,
   "metadata": {},
   "outputs": [
    {
     "data": {
      "text/plain": [
       "'The Power To OverRule G-d：_wKS2sFRI87w'"
      ]
     },
     "execution_count": 20,
     "metadata": {},
     "output_type": "execute_result"
    }
   ],
   "source": [
    "file_name = audio_file.split(\"\\\\\")[-1].split(\".\")[0]\n",
    "file_name"
   ]
  },
  {
   "cell_type": "code",
   "execution_count": 21,
   "metadata": {},
   "outputs": [],
   "source": [
    "json.dump(transcript.json_response, \n",
    "          open(f'files/transcript_{file_name}_{transcript.id}.json', 'w', encoding='utf-8'), \n",
    "          indent=4, \n",
    "          ensure_ascii=False\n",
    ")\n",
    "\n",
    "with open(f'files/transcript_{file_name}_{transcript.id}.txt', 'w', encoding='utf-8') as f:\n",
    "    f.write(transcript.text)"
   ]
  },
  {
   "cell_type": "markdown",
   "metadata": {},
   "source": [
    "## Working with the transcript"
   ]
  },
  {
   "cell_type": "code",
   "execution_count": null,
   "metadata": {},
   "outputs": [
    {
     "data": {
      "text/plain": [
       "<TranscriptStatus.completed: 'completed'>"
      ]
     },
     "execution_count": 2,
     "metadata": {},
     "output_type": "execute_result"
    }
   ],
   "source": [
    "# load the transcript by id if necessary\n",
    "job_id = '1dc162c7-0114-4698-be0a-8259ad1e7edf'\n",
    "\n",
    "transcript = aai.Transcript.get_by_id(job_id)\n",
    "transcript.status"
   ]
  },
  {
   "cell_type": "markdown",
   "metadata": {},
   "source": [
    "### Search for word"
   ]
  },
  {
   "cell_type": "code",
   "execution_count": 23,
   "metadata": {},
   "outputs": [],
   "source": [
    "def convert_millis(millis):\n",
    "    seconds = millis // 1000\n",
    "    hours = seconds // 3600\n",
    "    minutes = (seconds % 3600) // 60\n",
    "    seconds = seconds % 60\n",
    "    return f\"{hours:02}:{minutes:02}:{seconds:02}\"\n",
    "\n",
    "def find_words(query):\n",
    "    matches = transcript.word_search(query.split())\n",
    "    for match in matches:\n",
    "        print(f'{match.text}: ', end='')\n",
    "        print('; '.join([convert_millis(start) for start, end in match.timestamps]))"
   ]
  },
  {
   "cell_type": "code",
   "execution_count": 24,
   "metadata": {},
   "outputs": [
    {
     "name": "stdout",
     "output_type": "stream",
     "text": [
      "mode: 00:14:45\n",
      "cotton: 00:14:46\n"
     ]
    }
   ],
   "source": [
    "query = 'Mode Cotton'\n",
    "find_words(query)"
   ]
  },
  {
   "cell_type": "code",
   "execution_count": 12,
   "metadata": {},
   "outputs": [
    {
     "data": {
      "text/plain": [
       "[WordSearchMatch(text='god', count=62, timestamps=[(20664, 20984), (156172, 156800), (159174, 159366), (161486, 161686), (170430, 170646), (190434, 190666), (234720, 234984), (324018, 324274), (329794, 329986), (394814, 395046), (401282, 401466), (405602, 405834), (414562, 414746), (415762, 415946), (416946, 417194), (431460, 431932), (437780, 438044), (492546, 492746), (494514, 494890), (527540, 527844), (538984, 539360), (552664, 552944), (574656, 574856), (600348, 600644), (694018, 694178), (695754, 695986), (696666, 696818), (701882, 702370), (724746, 725106), (730666, 730914), (773528, 773728), (861360, 861664), (864048, 864256), (870208, 870416), (988096, 988296), (991316, 991468), (1200312, 1200448), (1236932, 1237560), (1242332, 1242516), (1252796, 1253092), (1269166, 1269542), (1275086, 1275334), (1279470, 1279686), (1283412, 1283596), (1294276, 1294476), (1295300, 1295468), (1310908, 1311116), (1321956, 1322156), (1359460, 1359724), (1361540, 1361756), (1366496, 1366648), (1398126, 1398326), (1400238, 1400614), (1404038, 1404374), (1406430, 1406806), (1482740, 1483548), (1495060, 1495372), (1497846, 1498046), (1507126, 1507278), (1511086, 1511710), (1512166, 1512414), (1526176, 1526568)], indexes=[39, 384, 392, 403, 431, 483, 560, 801, 818, 1021, 1047, 1058, 1080, 1085, 1092, 1132, 1151, 1329, 1333, 1439, 1489, 1523, 1588, 1667, 1974, 1981, 1985, 2006, 2052, 2071, 2214, 2460, 2470, 2486, 2850, 2856, 3523, 3633, 3650, 3682, 3720, 3738, 3757, 3775, 3817, 3822, 3898, 3939, 4040, 4048, 4070, 4185, 4191, 4203, 4207, 4478, 4513, 4520, 4550, 4565, 4567, 4607])]"
      ]
     },
     "execution_count": 12,
     "metadata": {},
     "output_type": "execute_result"
    }
   ],
   "source": [
    "matches = transcript.word_search(['God'])\n",
    "matches"
   ]
  },
  {
   "cell_type": "markdown",
   "metadata": {},
   "source": []
  }
 ],
 "metadata": {
  "kernelspec": {
   "display_name": ".venv",
   "language": "python",
   "name": "python3"
  },
  "language_info": {
   "codemirror_mode": {
    "name": "ipython",
    "version": 3
   },
   "file_extension": ".py",
   "mimetype": "text/x-python",
   "name": "python",
   "nbconvert_exporter": "python",
   "pygments_lexer": "ipython3",
   "version": "3.12.4"
  }
 },
 "nbformat": 4,
 "nbformat_minor": 2
}
